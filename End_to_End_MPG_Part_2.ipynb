{
  "nbformat": 4,
  "nbformat_minor": 0,
  "metadata": {
    "colab": {
      "name": "End to End: MPG - Part 2",
      "provenance": [],
      "authorship_tag": "ABX9TyPb7EdYYkGs/5wBNs/n/KLN",
      "include_colab_link": true
    },
    "kernelspec": {
      "name": "python3",
      "display_name": "Python 3"
    }
  },
  "cells": [
    {
      "cell_type": "markdown",
      "metadata": {
        "id": "view-in-github",
        "colab_type": "text"
      },
      "source": [
        "<a href=\"https://colab.research.google.com/github/Otobi1/Fuel-Effficiency-Prediction-End-to-End/blob/master/End_to_End_MPG_Part_2.ipynb\" target=\"_parent\"><img src=\"https://colab.research.google.com/assets/colab-badge.svg\" alt=\"Open In Colab\"/></a>"
      ]
    },
    {
      "cell_type": "code",
      "metadata": {
        "id": "pkEk5KSwBmo_",
        "colab": {
          "base_uri": "https://localhost:8080/",
          "height": 53
        },
        "outputId": "11793a4e-45b9-4316-9d74-b0d25eb65730"
      },
      "source": [
        "# Data Preparation \n",
        "\n",
        "\"\"\"\n",
        "Handling Categorical Attribute - OneHotEncoder,\n",
        "Data Cleaning - Imputer, \n",
        "Attribute Addition - Adding Custome Transformation, \n",
        "Setting up Data Transformation Pipeline for Numerical and Categorical Variables\n",
        "\"\"\""
      ],
      "execution_count": null,
      "outputs": [
        {
          "output_type": "execute_result",
          "data": {
            "application/vnd.google.colaboratory.intrinsic+json": {
              "type": "string"
            },
            "text/plain": [
              "'\\nHandling Categorical Attribute - OneHotEncoder,\\nData Cleaning - Imputer, \\nAttribute Addition - Adding Custome Transformation, \\nSetting up Data Transformation Pipeline for Numerical and Categorical Variables\\n'"
            ]
          },
          "metadata": {
            "tags": []
          },
          "execution_count": 1
        }
      ]
    },
    {
      "cell_type": "code",
      "metadata": {
        "id": "8V__5bcUCgCT"
      },
      "source": [
        "# Importing the necessary libraries \n",
        "\n",
        "import numpy as np\n",
        "import pandas as pd\n",
        "import matplotlib.pyplot as plt\n",
        "import seaborn as sns \n",
        "\n",
        "from sklearn.model_selection import StratifiedShuffleSplit\n",
        "\n",
        "import warnings\n",
        "warnings.filterwarnings(\"ignore\")"
      ],
      "execution_count": null,
      "outputs": []
    },
    {
      "cell_type": "code",
      "metadata": {
        "id": "DFUlNtX-Eo5s",
        "colab": {
          "base_uri": "https://localhost:8080/"
        },
        "outputId": "23a94187-9c7b-4ba3-81ba-78ecdd0984d0"
      },
      "source": [
        "!wget http://archive.ics.uci.edu/ml/machine-learning-databases/auto-mpg/auto-mpg.data"
      ],
      "execution_count": null,
      "outputs": [
        {
          "output_type": "stream",
          "text": [
            "--2020-11-10 19:00:54--  http://archive.ics.uci.edu/ml/machine-learning-databases/auto-mpg/auto-mpg.data\n",
            "Resolving archive.ics.uci.edu (archive.ics.uci.edu)... 128.195.10.252\n",
            "Connecting to archive.ics.uci.edu (archive.ics.uci.edu)|128.195.10.252|:80... connected.\n",
            "HTTP request sent, awaiting response... 200 OK\n",
            "Length: 30286 (30K) [application/x-httpd-php]\n",
            "Saving to: ‘auto-mpg.data.2’\n",
            "\n",
            "auto-mpg.data.2     100%[===================>]  29.58K  --.-KB/s    in 0.06s   \n",
            "\n",
            "2020-11-10 19:00:54 (465 KB/s) - ‘auto-mpg.data.2’ saved [30286/30286]\n",
            "\n"
          ],
          "name": "stdout"
        }
      ]
    },
    {
      "cell_type": "code",
      "metadata": {
        "id": "4qZhgi0TC0Lr"
      },
      "source": [
        "# Reading the .data file using pandas\n",
        "\n",
        "cols = [\"MPG\", \"Cylinders\", \"Displacement\", \"Horsepower\", \"Weight\", \"Acceleration\", \"Model Year\", \"Origin\"]\n",
        "\n",
        "df = pd.read_csv(\"./auto-mpg.data\", names = cols, na_values = \"?\", comment = \"\\t\", sep = \" \", skipinitialspace = True)\n",
        "\n",
        "data = df.copy()\n",
        "\n",
        "split = StratifiedShuffleSplit(n_splits = 1, test_size = 0.2, random_state = 42)\n",
        "for train_index, test_index in split.split(data, data[\"Cylinders\"]):\n",
        "  strat_train_set = data.loc[train_index]\n",
        "  strat_test_set = data.loc[test_index]"
      ],
      "execution_count": null,
      "outputs": []
    },
    {
      "cell_type": "code",
      "metadata": {
        "id": "7H9yToFOEidF",
        "colab": {
          "base_uri": "https://localhost:8080/",
          "height": 415
        },
        "outputId": "e7ec02d0-a254-47b7-c29c-e18507954edd"
      },
      "source": [
        "# Separating the Target and the Feature Variables \n",
        "\n",
        "data = strat_train_set.drop(\"MPG\", axis = 1)\n",
        "data_labels = strat_train_set[\"MPG\"].copy()\n",
        "data"
      ],
      "execution_count": null,
      "outputs": [
        {
          "output_type": "execute_result",
          "data": {
            "text/html": [
              "<div>\n",
              "<style scoped>\n",
              "    .dataframe tbody tr th:only-of-type {\n",
              "        vertical-align: middle;\n",
              "    }\n",
              "\n",
              "    .dataframe tbody tr th {\n",
              "        vertical-align: top;\n",
              "    }\n",
              "\n",
              "    .dataframe thead th {\n",
              "        text-align: right;\n",
              "    }\n",
              "</style>\n",
              "<table border=\"1\" class=\"dataframe\">\n",
              "  <thead>\n",
              "    <tr style=\"text-align: right;\">\n",
              "      <th></th>\n",
              "      <th>Cylinders</th>\n",
              "      <th>Displacement</th>\n",
              "      <th>Horsepower</th>\n",
              "      <th>Weight</th>\n",
              "      <th>Acceleration</th>\n",
              "      <th>Model Year</th>\n",
              "      <th>Origin</th>\n",
              "    </tr>\n",
              "  </thead>\n",
              "  <tbody>\n",
              "    <tr>\n",
              "      <th>145</th>\n",
              "      <td>4</td>\n",
              "      <td>83.0</td>\n",
              "      <td>61.0</td>\n",
              "      <td>2003.0</td>\n",
              "      <td>19.0</td>\n",
              "      <td>74</td>\n",
              "      <td>3</td>\n",
              "    </tr>\n",
              "    <tr>\n",
              "      <th>151</th>\n",
              "      <td>4</td>\n",
              "      <td>79.0</td>\n",
              "      <td>67.0</td>\n",
              "      <td>2000.0</td>\n",
              "      <td>16.0</td>\n",
              "      <td>74</td>\n",
              "      <td>2</td>\n",
              "    </tr>\n",
              "    <tr>\n",
              "      <th>388</th>\n",
              "      <td>4</td>\n",
              "      <td>156.0</td>\n",
              "      <td>92.0</td>\n",
              "      <td>2585.0</td>\n",
              "      <td>14.5</td>\n",
              "      <td>82</td>\n",
              "      <td>1</td>\n",
              "    </tr>\n",
              "    <tr>\n",
              "      <th>48</th>\n",
              "      <td>6</td>\n",
              "      <td>250.0</td>\n",
              "      <td>88.0</td>\n",
              "      <td>3139.0</td>\n",
              "      <td>14.5</td>\n",
              "      <td>71</td>\n",
              "      <td>1</td>\n",
              "    </tr>\n",
              "    <tr>\n",
              "      <th>114</th>\n",
              "      <td>4</td>\n",
              "      <td>98.0</td>\n",
              "      <td>90.0</td>\n",
              "      <td>2265.0</td>\n",
              "      <td>15.5</td>\n",
              "      <td>73</td>\n",
              "      <td>2</td>\n",
              "    </tr>\n",
              "    <tr>\n",
              "      <th>...</th>\n",
              "      <td>...</td>\n",
              "      <td>...</td>\n",
              "      <td>...</td>\n",
              "      <td>...</td>\n",
              "      <td>...</td>\n",
              "      <td>...</td>\n",
              "      <td>...</td>\n",
              "    </tr>\n",
              "    <tr>\n",
              "      <th>147</th>\n",
              "      <td>4</td>\n",
              "      <td>90.0</td>\n",
              "      <td>75.0</td>\n",
              "      <td>2108.0</td>\n",
              "      <td>15.5</td>\n",
              "      <td>74</td>\n",
              "      <td>2</td>\n",
              "    </tr>\n",
              "    <tr>\n",
              "      <th>156</th>\n",
              "      <td>8</td>\n",
              "      <td>400.0</td>\n",
              "      <td>170.0</td>\n",
              "      <td>4668.0</td>\n",
              "      <td>11.5</td>\n",
              "      <td>75</td>\n",
              "      <td>1</td>\n",
              "    </tr>\n",
              "    <tr>\n",
              "      <th>395</th>\n",
              "      <td>4</td>\n",
              "      <td>135.0</td>\n",
              "      <td>84.0</td>\n",
              "      <td>2295.0</td>\n",
              "      <td>11.6</td>\n",
              "      <td>82</td>\n",
              "      <td>1</td>\n",
              "    </tr>\n",
              "    <tr>\n",
              "      <th>14</th>\n",
              "      <td>4</td>\n",
              "      <td>113.0</td>\n",
              "      <td>95.0</td>\n",
              "      <td>2372.0</td>\n",
              "      <td>15.0</td>\n",
              "      <td>70</td>\n",
              "      <td>3</td>\n",
              "    </tr>\n",
              "    <tr>\n",
              "      <th>362</th>\n",
              "      <td>6</td>\n",
              "      <td>146.0</td>\n",
              "      <td>120.0</td>\n",
              "      <td>2930.0</td>\n",
              "      <td>13.8</td>\n",
              "      <td>81</td>\n",
              "      <td>3</td>\n",
              "    </tr>\n",
              "  </tbody>\n",
              "</table>\n",
              "<p>318 rows × 7 columns</p>\n",
              "</div>"
            ],
            "text/plain": [
              "     Cylinders  Displacement  Horsepower  ...  Acceleration  Model Year  Origin\n",
              "145          4          83.0        61.0  ...          19.0          74       3\n",
              "151          4          79.0        67.0  ...          16.0          74       2\n",
              "388          4         156.0        92.0  ...          14.5          82       1\n",
              "48           6         250.0        88.0  ...          14.5          71       1\n",
              "114          4          98.0        90.0  ...          15.5          73       2\n",
              "..         ...           ...         ...  ...           ...         ...     ...\n",
              "147          4          90.0        75.0  ...          15.5          74       2\n",
              "156          8         400.0       170.0  ...          11.5          75       1\n",
              "395          4         135.0        84.0  ...          11.6          82       1\n",
              "14           4         113.0        95.0  ...          15.0          70       3\n",
              "362          6         146.0       120.0  ...          13.8          81       3\n",
              "\n",
              "[318 rows x 7 columns]"
            ]
          },
          "metadata": {
            "tags": []
          },
          "execution_count": 5
        }
      ]
    },
    {
      "cell_type": "code",
      "metadata": {
        "id": "_PZDFqG-FHWT",
        "colab": {
          "base_uri": "https://localhost:8080/",
          "height": 202
        },
        "outputId": "e8be01c0-fd78-4638-cf0a-2ab5b2b88de3"
      },
      "source": [
        "# Preprocessing the Origin Column\n",
        "\n",
        "def preprocess_origin_cols(df):\n",
        "  df[\"Origin\"] = df[\"Origin\"].map({1: \"India\", 2: \"USA\", 3: \"Germany\"})\n",
        "  return df \n",
        "data_tr = preprocess_origin_cols(data)\n",
        "data_tr.head()"
      ],
      "execution_count": null,
      "outputs": [
        {
          "output_type": "execute_result",
          "data": {
            "text/html": [
              "<div>\n",
              "<style scoped>\n",
              "    .dataframe tbody tr th:only-of-type {\n",
              "        vertical-align: middle;\n",
              "    }\n",
              "\n",
              "    .dataframe tbody tr th {\n",
              "        vertical-align: top;\n",
              "    }\n",
              "\n",
              "    .dataframe thead th {\n",
              "        text-align: right;\n",
              "    }\n",
              "</style>\n",
              "<table border=\"1\" class=\"dataframe\">\n",
              "  <thead>\n",
              "    <tr style=\"text-align: right;\">\n",
              "      <th></th>\n",
              "      <th>Cylinders</th>\n",
              "      <th>Displacement</th>\n",
              "      <th>Horsepower</th>\n",
              "      <th>Weight</th>\n",
              "      <th>Acceleration</th>\n",
              "      <th>Model Year</th>\n",
              "      <th>Origin</th>\n",
              "    </tr>\n",
              "  </thead>\n",
              "  <tbody>\n",
              "    <tr>\n",
              "      <th>145</th>\n",
              "      <td>4</td>\n",
              "      <td>83.0</td>\n",
              "      <td>61.0</td>\n",
              "      <td>2003.0</td>\n",
              "      <td>19.0</td>\n",
              "      <td>74</td>\n",
              "      <td>Germany</td>\n",
              "    </tr>\n",
              "    <tr>\n",
              "      <th>151</th>\n",
              "      <td>4</td>\n",
              "      <td>79.0</td>\n",
              "      <td>67.0</td>\n",
              "      <td>2000.0</td>\n",
              "      <td>16.0</td>\n",
              "      <td>74</td>\n",
              "      <td>USA</td>\n",
              "    </tr>\n",
              "    <tr>\n",
              "      <th>388</th>\n",
              "      <td>4</td>\n",
              "      <td>156.0</td>\n",
              "      <td>92.0</td>\n",
              "      <td>2585.0</td>\n",
              "      <td>14.5</td>\n",
              "      <td>82</td>\n",
              "      <td>India</td>\n",
              "    </tr>\n",
              "    <tr>\n",
              "      <th>48</th>\n",
              "      <td>6</td>\n",
              "      <td>250.0</td>\n",
              "      <td>88.0</td>\n",
              "      <td>3139.0</td>\n",
              "      <td>14.5</td>\n",
              "      <td>71</td>\n",
              "      <td>India</td>\n",
              "    </tr>\n",
              "    <tr>\n",
              "      <th>114</th>\n",
              "      <td>4</td>\n",
              "      <td>98.0</td>\n",
              "      <td>90.0</td>\n",
              "      <td>2265.0</td>\n",
              "      <td>15.5</td>\n",
              "      <td>73</td>\n",
              "      <td>USA</td>\n",
              "    </tr>\n",
              "  </tbody>\n",
              "</table>\n",
              "</div>"
            ],
            "text/plain": [
              "     Cylinders  Displacement  Horsepower  ...  Acceleration  Model Year   Origin\n",
              "145          4          83.0        61.0  ...          19.0          74  Germany\n",
              "151          4          79.0        67.0  ...          16.0          74      USA\n",
              "388          4         156.0        92.0  ...          14.5          82    India\n",
              "48           6         250.0        88.0  ...          14.5          71    India\n",
              "114          4          98.0        90.0  ...          15.5          73      USA\n",
              "\n",
              "[5 rows x 7 columns]"
            ]
          },
          "metadata": {
            "tags": []
          },
          "execution_count": 6
        }
      ]
    },
    {
      "cell_type": "code",
      "metadata": {
        "id": "fGGdtKQ4F07X",
        "colab": {
          "base_uri": "https://localhost:8080/"
        },
        "outputId": "4464d98a-fd99-4587-8292-32cb21444e8d"
      },
      "source": [
        "# One Hot Encoding the Origin Column \n",
        "\n",
        "data_tr.info()"
      ],
      "execution_count": null,
      "outputs": [
        {
          "output_type": "stream",
          "text": [
            "<class 'pandas.core.frame.DataFrame'>\n",
            "Int64Index: 318 entries, 145 to 362\n",
            "Data columns (total 7 columns):\n",
            " #   Column        Non-Null Count  Dtype  \n",
            "---  ------        --------------  -----  \n",
            " 0   Cylinders     318 non-null    int64  \n",
            " 1   Displacement  318 non-null    float64\n",
            " 2   Horsepower    314 non-null    float64\n",
            " 3   Weight        318 non-null    float64\n",
            " 4   Acceleration  318 non-null    float64\n",
            " 5   Model Year    318 non-null    int64  \n",
            " 6   Origin        318 non-null    object \n",
            "dtypes: float64(4), int64(2), object(1)\n",
            "memory usage: 19.9+ KB\n"
          ],
          "name": "stdout"
        }
      ]
    },
    {
      "cell_type": "code",
      "metadata": {
        "id": "gExjL8HhGMMY",
        "colab": {
          "base_uri": "https://localhost:8080/",
          "height": 202
        },
        "outputId": "4d6bcc70-054a-420e-92ae-dd6433e51a9e"
      },
      "source": [
        "# Isolating the Origin COlumn \n",
        "\n",
        "data_cat = data_tr[[\"Origin\"]]\n",
        "data_cat.head()"
      ],
      "execution_count": null,
      "outputs": [
        {
          "output_type": "execute_result",
          "data": {
            "text/html": [
              "<div>\n",
              "<style scoped>\n",
              "    .dataframe tbody tr th:only-of-type {\n",
              "        vertical-align: middle;\n",
              "    }\n",
              "\n",
              "    .dataframe tbody tr th {\n",
              "        vertical-align: top;\n",
              "    }\n",
              "\n",
              "    .dataframe thead th {\n",
              "        text-align: right;\n",
              "    }\n",
              "</style>\n",
              "<table border=\"1\" class=\"dataframe\">\n",
              "  <thead>\n",
              "    <tr style=\"text-align: right;\">\n",
              "      <th></th>\n",
              "      <th>Origin</th>\n",
              "    </tr>\n",
              "  </thead>\n",
              "  <tbody>\n",
              "    <tr>\n",
              "      <th>145</th>\n",
              "      <td>Germany</td>\n",
              "    </tr>\n",
              "    <tr>\n",
              "      <th>151</th>\n",
              "      <td>USA</td>\n",
              "    </tr>\n",
              "    <tr>\n",
              "      <th>388</th>\n",
              "      <td>India</td>\n",
              "    </tr>\n",
              "    <tr>\n",
              "      <th>48</th>\n",
              "      <td>India</td>\n",
              "    </tr>\n",
              "    <tr>\n",
              "      <th>114</th>\n",
              "      <td>USA</td>\n",
              "    </tr>\n",
              "  </tbody>\n",
              "</table>\n",
              "</div>"
            ],
            "text/plain": [
              "      Origin\n",
              "145  Germany\n",
              "151      USA\n",
              "388    India\n",
              "48     India\n",
              "114      USA"
            ]
          },
          "metadata": {
            "tags": []
          },
          "execution_count": 8
        }
      ]
    },
    {
      "cell_type": "code",
      "metadata": {
        "id": "2obn9x2xGVbK",
        "colab": {
          "base_uri": "https://localhost:8080/"
        },
        "outputId": "e571b9aa-4bf2-4555-f96c-22465c16bb16"
      },
      "source": [
        "#onehotencoding the categorical values \n",
        "\n",
        "from sklearn.preprocessing import OneHotEncoder\n",
        "\n",
        "cat_encoder = OneHotEncoder()\n",
        "data_cat_1hot = cat_encoder.fit_transform(data_cat)\n",
        "data_cat_1hot # returns a sparse matrix (several columns based on the number of classes of the categorical variables)"
      ],
      "execution_count": null,
      "outputs": [
        {
          "output_type": "execute_result",
          "data": {
            "text/plain": [
              "<318x3 sparse matrix of type '<class 'numpy.float64'>'\n",
              "\twith 318 stored elements in Compressed Sparse Row format>"
            ]
          },
          "metadata": {
            "tags": []
          },
          "execution_count": 9
        }
      ]
    },
    {
      "cell_type": "code",
      "metadata": {
        "id": "rRNpJ9R3HiaR",
        "colab": {
          "base_uri": "https://localhost:8080/"
        },
        "outputId": "b5ecaf5f-042a-433d-9d69-19770325169a"
      },
      "source": [
        "data_cat_1hot.toarray()[:5]"
      ],
      "execution_count": null,
      "outputs": [
        {
          "output_type": "execute_result",
          "data": {
            "text/plain": [
              "array([[1., 0., 0.],\n",
              "       [0., 0., 1.],\n",
              "       [0., 1., 0.],\n",
              "       [0., 1., 0.],\n",
              "       [0., 0., 1.]])"
            ]
          },
          "metadata": {
            "tags": []
          },
          "execution_count": 10
        }
      ]
    },
    {
      "cell_type": "code",
      "metadata": {
        "id": "8SYOYPtLHowX",
        "colab": {
          "base_uri": "https://localhost:8080/"
        },
        "outputId": "ae1237ac-9276-4f1a-f1a7-da4b63edf690"
      },
      "source": [
        "cat_encoder.categories_"
      ],
      "execution_count": null,
      "outputs": [
        {
          "output_type": "execute_result",
          "data": {
            "text/plain": [
              "[array(['Germany', 'India', 'USA'], dtype=object)]"
            ]
          },
          "metadata": {
            "tags": []
          },
          "execution_count": 11
        }
      ]
    },
    {
      "cell_type": "code",
      "metadata": {
        "id": "X1cgyPKkHsmk",
        "colab": {
          "base_uri": "https://localhost:8080/"
        },
        "outputId": "d749377b-897e-42ca-c3f8-495535950c5f"
      },
      "source": [
        "# Handling Missing Values using Simple Imputer - Separating the numerical columns \n",
        "\n",
        "num_data = data.iloc[:, :-1]\n",
        "num_data.info()"
      ],
      "execution_count": null,
      "outputs": [
        {
          "output_type": "stream",
          "text": [
            "<class 'pandas.core.frame.DataFrame'>\n",
            "Int64Index: 318 entries, 145 to 362\n",
            "Data columns (total 6 columns):\n",
            " #   Column        Non-Null Count  Dtype  \n",
            "---  ------        --------------  -----  \n",
            " 0   Cylinders     318 non-null    int64  \n",
            " 1   Displacement  318 non-null    float64\n",
            " 2   Horsepower    314 non-null    float64\n",
            " 3   Weight        318 non-null    float64\n",
            " 4   Acceleration  318 non-null    float64\n",
            " 5   Model Year    318 non-null    int64  \n",
            "dtypes: float64(4), int64(2)\n",
            "memory usage: 17.4 KB\n"
          ],
          "name": "stdout"
        }
      ]
    },
    {
      "cell_type": "code",
      "metadata": {
        "id": "Qo2EwneuH72E",
        "colab": {
          "base_uri": "https://localhost:8080/"
        },
        "outputId": "10e91f4f-b2bc-4245-dac1-934ea0062213"
      },
      "source": [
        "# Handling missing values \n",
        "\n",
        "from sklearn.impute import SimpleImputer\n",
        "\n",
        "imputer = SimpleImputer(strategy = \"median\")\n",
        "imputer.fit(num_data)"
      ],
      "execution_count": null,
      "outputs": [
        {
          "output_type": "execute_result",
          "data": {
            "text/plain": [
              "SimpleImputer(add_indicator=False, copy=True, fill_value=None,\n",
              "              missing_values=nan, strategy='median', verbose=0)"
            ]
          },
          "metadata": {
            "tags": []
          },
          "execution_count": 13
        }
      ]
    },
    {
      "cell_type": "code",
      "metadata": {
        "id": "kZARE_KMIZkW",
        "colab": {
          "base_uri": "https://localhost:8080/"
        },
        "outputId": "0b5bed15-c69c-4608-b4e6-2e56c9612207"
      },
      "source": [
        "# median of all the columns from imputer \n",
        "\n",
        "imputer.statistics_"
      ],
      "execution_count": null,
      "outputs": [
        {
          "output_type": "execute_result",
          "data": {
            "text/plain": [
              "array([   4. ,  146. ,   92. , 2844. ,   15.5,   76. ])"
            ]
          },
          "metadata": {
            "tags": []
          },
          "execution_count": 14
        }
      ]
    },
    {
      "cell_type": "code",
      "metadata": {
        "id": "3cR3XszeIh59",
        "colab": {
          "base_uri": "https://localhost:8080/"
        },
        "outputId": "cd950092-464b-47d9-b9bf-320fad63ed1b"
      },
      "source": [
        "#median from pandas dataframe\n",
        "\n",
        "data.median().values "
      ],
      "execution_count": null,
      "outputs": [
        {
          "output_type": "execute_result",
          "data": {
            "text/plain": [
              "array([   4. ,  146. ,   92. , 2844. ,   15.5,   76. ])"
            ]
          },
          "metadata": {
            "tags": []
          },
          "execution_count": 15
        }
      ]
    },
    {
      "cell_type": "code",
      "metadata": {
        "id": "wMzjPHJIIksj",
        "colab": {
          "base_uri": "https://localhost:8080/"
        },
        "outputId": "741dba7a-0038-4156-c889-15449e04caf2"
      },
      "source": [
        "# imputing the missing values by transforming the dataframe\n",
        "\n",
        "X = imputer.transform(num_data)\n",
        "X"
      ],
      "execution_count": null,
      "outputs": [
        {
          "output_type": "execute_result",
          "data": {
            "text/plain": [
              "array([[   4. ,   83. ,   61. , 2003. ,   19. ,   74. ],\n",
              "       [   4. ,   79. ,   67. , 2000. ,   16. ,   74. ],\n",
              "       [   4. ,  156. ,   92. , 2585. ,   14.5,   82. ],\n",
              "       ...,\n",
              "       [   4. ,  135. ,   84. , 2295. ,   11.6,   82. ],\n",
              "       [   4. ,  113. ,   95. , 2372. ,   15. ,   70. ],\n",
              "       [   6. ,  146. ,  120. , 2930. ,   13.8,   81. ]])"
            ]
          },
          "metadata": {
            "tags": []
          },
          "execution_count": 16
        }
      ]
    },
    {
      "cell_type": "code",
      "metadata": {
        "id": "fmeGvZ19I4Sn",
        "colab": {
          "base_uri": "https://localhost:8080/"
        },
        "outputId": "3c91598b-97f2-4a2f-c569-50bfde83a6ac"
      },
      "source": [
        "# converting the 2D array back into dataframe \n",
        "\n",
        "data_tr = pd.DataFrame(X, columns = num_data.columns, index = num_data.index)\n",
        "\n",
        "data_tr.info()"
      ],
      "execution_count": null,
      "outputs": [
        {
          "output_type": "stream",
          "text": [
            "<class 'pandas.core.frame.DataFrame'>\n",
            "Int64Index: 318 entries, 145 to 362\n",
            "Data columns (total 6 columns):\n",
            " #   Column        Non-Null Count  Dtype  \n",
            "---  ------        --------------  -----  \n",
            " 0   Cylinders     318 non-null    float64\n",
            " 1   Displacement  318 non-null    float64\n",
            " 2   Horsepower    318 non-null    float64\n",
            " 3   Weight        318 non-null    float64\n",
            " 4   Acceleration  318 non-null    float64\n",
            " 5   Model Year    318 non-null    float64\n",
            "dtypes: float64(6)\n",
            "memory usage: 17.4 KB\n"
          ],
          "name": "stdout"
        }
      ]
    },
    {
      "cell_type": "code",
      "metadata": {
        "id": "oqQclRmeJGCe",
        "colab": {
          "base_uri": "https://localhost:8080/",
          "height": 202
        },
        "outputId": "38cce521-4407-4ef3-f1df-f5c4b4ebdd73"
      },
      "source": [
        "# Adding Attributes using  BaseEstimator and Transformer\n",
        "\n",
        "num_data.head()"
      ],
      "execution_count": null,
      "outputs": [
        {
          "output_type": "execute_result",
          "data": {
            "text/html": [
              "<div>\n",
              "<style scoped>\n",
              "    .dataframe tbody tr th:only-of-type {\n",
              "        vertical-align: middle;\n",
              "    }\n",
              "\n",
              "    .dataframe tbody tr th {\n",
              "        vertical-align: top;\n",
              "    }\n",
              "\n",
              "    .dataframe thead th {\n",
              "        text-align: right;\n",
              "    }\n",
              "</style>\n",
              "<table border=\"1\" class=\"dataframe\">\n",
              "  <thead>\n",
              "    <tr style=\"text-align: right;\">\n",
              "      <th></th>\n",
              "      <th>Cylinders</th>\n",
              "      <th>Displacement</th>\n",
              "      <th>Horsepower</th>\n",
              "      <th>Weight</th>\n",
              "      <th>Acceleration</th>\n",
              "      <th>Model Year</th>\n",
              "    </tr>\n",
              "  </thead>\n",
              "  <tbody>\n",
              "    <tr>\n",
              "      <th>145</th>\n",
              "      <td>4</td>\n",
              "      <td>83.0</td>\n",
              "      <td>61.0</td>\n",
              "      <td>2003.0</td>\n",
              "      <td>19.0</td>\n",
              "      <td>74</td>\n",
              "    </tr>\n",
              "    <tr>\n",
              "      <th>151</th>\n",
              "      <td>4</td>\n",
              "      <td>79.0</td>\n",
              "      <td>67.0</td>\n",
              "      <td>2000.0</td>\n",
              "      <td>16.0</td>\n",
              "      <td>74</td>\n",
              "    </tr>\n",
              "    <tr>\n",
              "      <th>388</th>\n",
              "      <td>4</td>\n",
              "      <td>156.0</td>\n",
              "      <td>92.0</td>\n",
              "      <td>2585.0</td>\n",
              "      <td>14.5</td>\n",
              "      <td>82</td>\n",
              "    </tr>\n",
              "    <tr>\n",
              "      <th>48</th>\n",
              "      <td>6</td>\n",
              "      <td>250.0</td>\n",
              "      <td>88.0</td>\n",
              "      <td>3139.0</td>\n",
              "      <td>14.5</td>\n",
              "      <td>71</td>\n",
              "    </tr>\n",
              "    <tr>\n",
              "      <th>114</th>\n",
              "      <td>4</td>\n",
              "      <td>98.0</td>\n",
              "      <td>90.0</td>\n",
              "      <td>2265.0</td>\n",
              "      <td>15.5</td>\n",
              "      <td>73</td>\n",
              "    </tr>\n",
              "  </tbody>\n",
              "</table>\n",
              "</div>"
            ],
            "text/plain": [
              "     Cylinders  Displacement  Horsepower  Weight  Acceleration  Model Year\n",
              "145          4          83.0        61.0  2003.0          19.0          74\n",
              "151          4          79.0        67.0  2000.0          16.0          74\n",
              "388          4         156.0        92.0  2585.0          14.5          82\n",
              "48           6         250.0        88.0  3139.0          14.5          71\n",
              "114          4          98.0        90.0  2265.0          15.5          73"
            ]
          },
          "metadata": {
            "tags": []
          },
          "execution_count": 18
        }
      ]
    },
    {
      "cell_type": "code",
      "metadata": {
        "id": "zQLbjWbXJ6Kh",
        "colab": {
          "base_uri": "https://localhost:8080/"
        },
        "outputId": "007056e3-7228-4388-8d9b-54169524e984"
      },
      "source": [
        "from sklearn.base import BaseEstimator, TransformerMixin\n",
        "\n",
        "acc_ix, hpower_ix, cyl_ix = 4, 2, 0\n",
        "\n",
        "class CustomAttrAdder(BaseEstimator, TransformerMixin):\n",
        "  def __init__(self, acc_on_power = True): # no *args or **kargs\n",
        "    self.acc_on_power = acc_on_power\n",
        "  def fit(self, X, y = None):\n",
        "    return self # nothing else to do\n",
        "  def transform(self, X): \n",
        "    acc_on_cyl = X[:, acc_ix] / X[:, cyl_ix]\n",
        "    if self.acc_on_power: \n",
        "      acc_on_power = X[:, acc_ix] / X[:, hpower_ix]\n",
        "      return np.c_[X, acc_on_power, acc_on_cyl]\n",
        "\n",
        "    return np.c_[X, acc_on_cyl]\n",
        "\n",
        "attr_adder = CustomAttrAdder(acc_on_power = True)\n",
        "data_tr_extra_attrs = attr_adder.transform(data_tr.values)\n",
        "data_tr_extra_attrs[0]\n"
      ],
      "execution_count": null,
      "outputs": [
        {
          "output_type": "execute_result",
          "data": {
            "text/plain": [
              "array([4.0000000e+00, 8.3000000e+01, 6.1000000e+01, 2.0030000e+03,\n",
              "       1.9000000e+01, 7.4000000e+01, 3.1147541e-01, 4.7500000e+00])"
            ]
          },
          "metadata": {
            "tags": []
          },
          "execution_count": 19
        }
      ]
    },
    {
      "cell_type": "code",
      "metadata": {
        "id": "Ucel_umnMKG9",
        "colab": {
          "base_uri": "https://localhost:8080/"
        },
        "outputId": "67a6162b-eb7a-45ae-e5ce-8d165b302326"
      },
      "source": [
        "# Creating a Pipeline of tasks \n",
        "\n",
        "# Using Pipeline Class \n",
        "from sklearn.pipeline import Pipeline\n",
        "\n",
        "# Using the StandardScaler to scale all the numerical attributes \n",
        "from sklearn.preprocessing import StandardScaler\n",
        "\n",
        "numerics = [\"float64\", \"int64\"]\n",
        "\n",
        "num_data = data_tr.select_dtypes(include = numerics)\n",
        "\n",
        "# pipeline for numerical attributes \n",
        "# imputing  -> adding attributes  -> scale them\n",
        "\n",
        "num_pipeline = Pipeline([\n",
        "                         (\"imputer\", SimpleImputer(strategy = \"median\")), \n",
        "                         (\"attrs_adder\", CustomAttrAdder()), \n",
        "                         (\"std_scaler\", StandardScaler()),\n",
        "])\n",
        "\n",
        "num_data_tr = num_pipeline.fit_transform(num_data)\n",
        "num_data_tr[0]"
      ],
      "execution_count": null,
      "outputs": [
        {
          "output_type": "execute_result",
          "data": {
            "text/plain": [
              "array([-0.85657842, -1.07804475, -1.15192977, -1.17220298,  1.21586943,\n",
              "       -0.54436373,  1.70952741,  1.29565517])"
            ]
          },
          "metadata": {
            "tags": []
          },
          "execution_count": 20
        }
      ]
    },
    {
      "cell_type": "code",
      "metadata": {
        "id": "bUcHQFRvOl3W",
        "colab": {
          "base_uri": "https://localhost:8080/"
        },
        "outputId": "51dce874-828a-4f41-ef5a-bc6edeb31d4f"
      },
      "source": [
        "# Transform different columns or subsets using ColumnTransformer \n",
        "from sklearn.compose import ColumnTransformer\n",
        "\n",
        "num_attrs = list(num_data)\n",
        "cat_attrs = [\"Origin\"]\n",
        "\n",
        "# complete pipeline to transform\n",
        "# both numerical and categorical attributes \n",
        "\n",
        "full_pipeline = ColumnTransformer([\n",
        "                                   (\"num\", num_pipeline, num_attrs), \n",
        "                                   (\"cat\", OneHotEncoder(), cat_attrs), \n",
        "])\n",
        "\n",
        "prepared_data = full_pipeline.fit_transform(data)\n",
        "prepared_data"
      ],
      "execution_count": null,
      "outputs": [
        {
          "output_type": "execute_result",
          "data": {
            "text/plain": [
              "array([[-0.85657842, -1.07804475, -1.15192977, ...,  1.        ,\n",
              "         0.        ,  0.        ],\n",
              "       [-0.85657842, -1.1174582 , -0.9900351 , ...,  0.        ,\n",
              "         0.        ,  1.        ],\n",
              "       [-0.85657842, -0.3587492 , -0.31547399, ...,  0.        ,\n",
              "         1.        ,  0.        ],\n",
              "       ...,\n",
              "       [-0.85657842, -0.56566984, -0.53133355, ...,  0.        ,\n",
              "         1.        ,  0.        ],\n",
              "       [-0.85657842, -0.78244384, -0.23452666, ...,  1.        ,\n",
              "         0.        ,  0.        ],\n",
              "       [ 0.32260746, -0.45728283,  0.44003446, ...,  1.        ,\n",
              "         0.        ,  0.        ]])"
            ]
          },
          "metadata": {
            "tags": []
          },
          "execution_count": 21
        }
      ]
    },
    {
      "cell_type": "code",
      "metadata": {
        "id": "wX6oSHySQN60"
      },
      "source": [
        ""
      ],
      "execution_count": null,
      "outputs": []
    }
  ]
}