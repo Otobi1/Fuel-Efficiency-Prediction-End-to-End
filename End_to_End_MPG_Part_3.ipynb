{
  "nbformat": 4,
  "nbformat_minor": 0,
  "metadata": {
    "colab": {
      "name": "End to End: MPG - Part 3",
      "provenance": [],
      "collapsed_sections": [],
      "include_colab_link": true
    },
    "kernelspec": {
      "name": "python3",
      "display_name": "Python 3"
    }
  },
  "cells": [
    {
      "cell_type": "markdown",
      "metadata": {
        "id": "view-in-github",
        "colab_type": "text"
      },
      "source": [
        "<a href=\"https://colab.research.google.com/github/Otobi1/Fuel-Effficiency-Prediction-End-to-End/blob/master/End_to_End_MPG_Part_3.ipynb\" target=\"_parent\"><img src=\"https://colab.research.google.com/assets/colab-badge.svg\" alt=\"Open In Colab\"/></a>"
      ]
    },
    {
      "cell_type": "code",
      "metadata": {
        "id": "B35UgjcZRQ9c",
        "colab": {
          "base_uri": "https://localhost:8080/",
          "height": 53
        },
        "outputId": "ed0b05f1-b2d1-4983-a98a-ee25f688dc2b"
      },
      "source": [
        "# Selecting and Training Models \n",
        "\n",
        "\"\"\"\n",
        "Select and train a few algos, - Linear Reg, Decision tree, RandomForest \n",
        "Evaluation using Mean Squared Error\n",
        "Model Eval using Cross Validation \n",
        "Hyperparameter Tuning using GridSearchCV\n",
        "Check Feature Importance \n",
        "Eval final data \n",
        "Save Model \n",
        "\"\"\""
      ],
      "execution_count": null,
      "outputs": [
        {
          "output_type": "execute_result",
          "data": {
            "application/vnd.google.colaboratory.intrinsic+json": {
              "type": "string"
            },
            "text/plain": [
              "'\\nSelect and train a few algos, - Linear Reg, Decision tree, RandomForest \\nEvaluation using Mean Squared Error\\nModel Eval using Cross Validation \\nHyperparameter Tuning using GridSearchCV\\nCheck Feature Importance \\nEval final data \\nSave Model \\n'"
            ]
          },
          "metadata": {
            "tags": []
          },
          "execution_count": 1
        }
      ]
    },
    {
      "cell_type": "code",
      "metadata": {
        "id": "ohSWal-ESIIY"
      },
      "source": [
        "# Importing the necessary libraries \n",
        "\n",
        "import numpy as np\n",
        "import pandas as pd\n",
        "import matplotlib.pyplot as plt\n",
        "import seaborn as sns\n",
        "\n",
        "from sklearn.model_selection import StratifiedShuffleSplit\n",
        "from sklearn.base import BaseEstimator, TransformerMixin\n",
        "from sklearn.pipeline import Pipeline\n",
        "\n",
        "from sklearn.impute import SimpleImputer\n",
        "from sklearn.preprocessing import StandardScaler, OneHotEncoder\n",
        "from sklearn.compose import ColumnTransformer\n",
        "\n",
        "import warnings\n",
        "warnings.filterwarnings(\"ignore\")"
      ],
      "execution_count": null,
      "outputs": []
    },
    {
      "cell_type": "code",
      "metadata": {
        "id": "7X3M8oq-ThQG",
        "colab": {
          "base_uri": "https://localhost:8080/"
        },
        "outputId": "f3c03d1d-e3e1-43bc-b785-ec1c922f7bd1"
      },
      "source": [
        "!wget http://archive.ics.uci.edu/ml/machine-learning-databases/auto-mpg/auto-mpg.data"
      ],
      "execution_count": null,
      "outputs": [
        {
          "output_type": "stream",
          "text": [
            "--2021-01-02 11:51:13--  http://archive.ics.uci.edu/ml/machine-learning-databases/auto-mpg/auto-mpg.data\n",
            "Resolving archive.ics.uci.edu (archive.ics.uci.edu)... 128.195.10.252\n",
            "Connecting to archive.ics.uci.edu (archive.ics.uci.edu)|128.195.10.252|:80... connected.\n",
            "HTTP request sent, awaiting response... 200 OK\n",
            "Length: 30286 (30K) [application/x-httpd-php]\n",
            "Saving to: ‘auto-mpg.data’\n",
            "\n",
            "\rauto-mpg.data         0%[                    ]       0  --.-KB/s               \rauto-mpg.data       100%[===================>]  29.58K  --.-KB/s    in 0.03s   \n",
            "\n",
            "2021-01-02 11:51:13 (1.05 MB/s) - ‘auto-mpg.data’ saved [30286/30286]\n",
            "\n"
          ],
          "name": "stdout"
        }
      ]
    },
    {
      "cell_type": "code",
      "metadata": {
        "id": "PrUosYXMTm03"
      },
      "source": [
        "# Reading the .data file using pandas\n",
        "\n",
        "cols = [\"MPG\", \"Cylinders\", \"Displacement\", \"Horsepower\", \"Weight\", \"Acceleration\", \"Model Year\", \"Origin\"]\n",
        "\n",
        "df = pd.read_csv(\"./auto-mpg.data\", names = cols, na_values = \"?\", comment = \"\\t\", sep = \" \", skipinitialspace = True)\n",
        "\n",
        "data = df.copy()\n",
        "\n",
        "split = StratifiedShuffleSplit(n_splits = 1, test_size = 0.2, random_state = 42)\n",
        "for train_index, test_index in split.split(data, data[\"Cylinders\"]):\n",
        "  strat_train_set = data.loc[train_index]\n",
        "  strat_test_set = data.loc[test_index]"
      ],
      "execution_count": null,
      "outputs": []
    },
    {
      "cell_type": "code",
      "metadata": {
        "id": "B1Gim7tVT2ME",
        "colab": {
          "base_uri": "https://localhost:8080/",
          "height": 415
        },
        "outputId": "b9d2bb3f-dcfd-4f61-db0b-2b8c8fd655b7"
      },
      "source": [
        "# Separating the Target and the Feature Variables \n",
        "\n",
        "data = strat_train_set.drop(\"MPG\", axis = 1)\n",
        "data_labels = strat_train_set[\"MPG\"].copy()\n",
        "data"
      ],
      "execution_count": null,
      "outputs": [
        {
          "output_type": "execute_result",
          "data": {
            "text/html": [
              "<div>\n",
              "<style scoped>\n",
              "    .dataframe tbody tr th:only-of-type {\n",
              "        vertical-align: middle;\n",
              "    }\n",
              "\n",
              "    .dataframe tbody tr th {\n",
              "        vertical-align: top;\n",
              "    }\n",
              "\n",
              "    .dataframe thead th {\n",
              "        text-align: right;\n",
              "    }\n",
              "</style>\n",
              "<table border=\"1\" class=\"dataframe\">\n",
              "  <thead>\n",
              "    <tr style=\"text-align: right;\">\n",
              "      <th></th>\n",
              "      <th>Cylinders</th>\n",
              "      <th>Displacement</th>\n",
              "      <th>Horsepower</th>\n",
              "      <th>Weight</th>\n",
              "      <th>Acceleration</th>\n",
              "      <th>Model Year</th>\n",
              "      <th>Origin</th>\n",
              "    </tr>\n",
              "  </thead>\n",
              "  <tbody>\n",
              "    <tr>\n",
              "      <th>145</th>\n",
              "      <td>4</td>\n",
              "      <td>83.0</td>\n",
              "      <td>61.0</td>\n",
              "      <td>2003.0</td>\n",
              "      <td>19.0</td>\n",
              "      <td>74</td>\n",
              "      <td>3</td>\n",
              "    </tr>\n",
              "    <tr>\n",
              "      <th>151</th>\n",
              "      <td>4</td>\n",
              "      <td>79.0</td>\n",
              "      <td>67.0</td>\n",
              "      <td>2000.0</td>\n",
              "      <td>16.0</td>\n",
              "      <td>74</td>\n",
              "      <td>2</td>\n",
              "    </tr>\n",
              "    <tr>\n",
              "      <th>388</th>\n",
              "      <td>4</td>\n",
              "      <td>156.0</td>\n",
              "      <td>92.0</td>\n",
              "      <td>2585.0</td>\n",
              "      <td>14.5</td>\n",
              "      <td>82</td>\n",
              "      <td>1</td>\n",
              "    </tr>\n",
              "    <tr>\n",
              "      <th>48</th>\n",
              "      <td>6</td>\n",
              "      <td>250.0</td>\n",
              "      <td>88.0</td>\n",
              "      <td>3139.0</td>\n",
              "      <td>14.5</td>\n",
              "      <td>71</td>\n",
              "      <td>1</td>\n",
              "    </tr>\n",
              "    <tr>\n",
              "      <th>114</th>\n",
              "      <td>4</td>\n",
              "      <td>98.0</td>\n",
              "      <td>90.0</td>\n",
              "      <td>2265.0</td>\n",
              "      <td>15.5</td>\n",
              "      <td>73</td>\n",
              "      <td>2</td>\n",
              "    </tr>\n",
              "    <tr>\n",
              "      <th>...</th>\n",
              "      <td>...</td>\n",
              "      <td>...</td>\n",
              "      <td>...</td>\n",
              "      <td>...</td>\n",
              "      <td>...</td>\n",
              "      <td>...</td>\n",
              "      <td>...</td>\n",
              "    </tr>\n",
              "    <tr>\n",
              "      <th>147</th>\n",
              "      <td>4</td>\n",
              "      <td>90.0</td>\n",
              "      <td>75.0</td>\n",
              "      <td>2108.0</td>\n",
              "      <td>15.5</td>\n",
              "      <td>74</td>\n",
              "      <td>2</td>\n",
              "    </tr>\n",
              "    <tr>\n",
              "      <th>156</th>\n",
              "      <td>8</td>\n",
              "      <td>400.0</td>\n",
              "      <td>170.0</td>\n",
              "      <td>4668.0</td>\n",
              "      <td>11.5</td>\n",
              "      <td>75</td>\n",
              "      <td>1</td>\n",
              "    </tr>\n",
              "    <tr>\n",
              "      <th>395</th>\n",
              "      <td>4</td>\n",
              "      <td>135.0</td>\n",
              "      <td>84.0</td>\n",
              "      <td>2295.0</td>\n",
              "      <td>11.6</td>\n",
              "      <td>82</td>\n",
              "      <td>1</td>\n",
              "    </tr>\n",
              "    <tr>\n",
              "      <th>14</th>\n",
              "      <td>4</td>\n",
              "      <td>113.0</td>\n",
              "      <td>95.0</td>\n",
              "      <td>2372.0</td>\n",
              "      <td>15.0</td>\n",
              "      <td>70</td>\n",
              "      <td>3</td>\n",
              "    </tr>\n",
              "    <tr>\n",
              "      <th>362</th>\n",
              "      <td>6</td>\n",
              "      <td>146.0</td>\n",
              "      <td>120.0</td>\n",
              "      <td>2930.0</td>\n",
              "      <td>13.8</td>\n",
              "      <td>81</td>\n",
              "      <td>3</td>\n",
              "    </tr>\n",
              "  </tbody>\n",
              "</table>\n",
              "<p>318 rows × 7 columns</p>\n",
              "</div>"
            ],
            "text/plain": [
              "     Cylinders  Displacement  Horsepower  ...  Acceleration  Model Year  Origin\n",
              "145          4          83.0        61.0  ...          19.0          74       3\n",
              "151          4          79.0        67.0  ...          16.0          74       2\n",
              "388          4         156.0        92.0  ...          14.5          82       1\n",
              "48           6         250.0        88.0  ...          14.5          71       1\n",
              "114          4          98.0        90.0  ...          15.5          73       2\n",
              "..         ...           ...         ...  ...           ...         ...     ...\n",
              "147          4          90.0        75.0  ...          15.5          74       2\n",
              "156          8         400.0       170.0  ...          11.5          75       1\n",
              "395          4         135.0        84.0  ...          11.6          82       1\n",
              "14           4         113.0        95.0  ...          15.0          70       3\n",
              "362          6         146.0       120.0  ...          13.8          81       3\n",
              "\n",
              "[318 rows x 7 columns]"
            ]
          },
          "metadata": {
            "tags": []
          },
          "execution_count": 5
        }
      ]
    },
    {
      "cell_type": "code",
      "metadata": {
        "id": "qx-66-qBT2ru"
      },
      "source": [
        "# Preprocessing the Origin Column\n",
        "#data[\"Origin\"].head()\n",
        "\n",
        "def preprocess_origin_cols(df):\n",
        "  df[\"Origin\"].head()\n",
        "  df[\"Origin\"] = df[\"Origin\"].map({1: \"India\", 2: \"USA\", 3: \"Germany\"})\n",
        "  \n",
        "  return df \n",
        "#data_tr = preprocess_origin_cols(data)\n",
        "#data_tr.head()\n"
      ],
      "execution_count": null,
      "outputs": []
    },
    {
      "cell_type": "code",
      "metadata": {
        "id": "qVG7vvsbUF_5"
      },
      "source": [
        "from sklearn.base import BaseEstimator, TransformerMixin\n",
        "\n",
        "acc_ix, hpower_ix, cyl_ix = 4, 2, 0\n",
        "\n",
        "class CustomAttrAdder(BaseEstimator, TransformerMixin):\n",
        "    def __init__(self, acc_on_power = True): # no *args or **kargs\n",
        "        self.acc_on_power = acc_on_power\n",
        "    def fit(self, X, y = None):\n",
        "        return self # nothing else to do\n",
        "    def transform(self, X): \n",
        "        acc_on_cyl = X[:, acc_ix] / X[:, cyl_ix]\n",
        "        if self.acc_on_power: \n",
        "          acc_on_power = X[:, acc_ix] / X[:, hpower_ix]\n",
        "          return np.c_[X, acc_on_power, acc_on_cyl]\n",
        "\n",
        "        return np.c_[X, acc_on_cyl]"
      ],
      "execution_count": null,
      "outputs": []
    },
    {
      "cell_type": "code",
      "metadata": {
        "id": "LVs8j1sRUUXC"
      },
      "source": [
        "def num_pipeline_transformer(data):\n",
        "    \"\"\" \n",
        "    Function to process numerical transformations \n",
        "    Argument:\n",
        "        data: original dataframe \n",
        "    Returns:\n",
        "        num_attrs: numerical  dataframe\n",
        "        num_pipeline: numerical pipeline object \n",
        "    \"\"\"\n",
        "\n",
        "    numerics = [\"float64\", \"int64\"]\n",
        "\n",
        "    num_attrs = data.select_dtypes(include = numerics)\n",
        "\n",
        "    num_pipeline = Pipeline([\n",
        "        (\"imputer\", SimpleImputer(strategy = \"median\")), \n",
        "        (\"attrs_adder\", CustomAttrAdder()),                   \n",
        "        (\"std_scaler\", StandardScaler()), \n",
        "        ])\n",
        "    return num_attrs, num_pipeline\n",
        "\n",
        "def pipeline_transformer(data):\n",
        "    \"\"\"\n",
        "    Complete transformation pipeline for both\n",
        "    numerical and categorical data. \n",
        "\n",
        "    Argument: \n",
        "        data: original dataframe \n",
        "    Returns:\n",
        "        prepared_data: transformed data, ready to use \n",
        "    \"\"\"\n",
        "\n",
        "    cat_attrs = [\"Origin\"]\n",
        "    num_attrs, num_pipeline = num_pipeline_transformer(data)\n",
        "    full_pipeline = ColumnTransformer([\n",
        "         (\"num\", num_pipeline, list(num_attrs)), \n",
        "         (\"cat\", OneHotEncoder(), cat_attrs), \n",
        "         ])                             \n",
        "    prepared_data = full_pipeline.fit_transform(data)\n",
        "    return prepared_data"
      ],
      "execution_count": null,
      "outputs": []
    },
    {
      "cell_type": "code",
      "metadata": {
        "id": "i-SppPCEWsqr",
        "colab": {
          "base_uri": "https://localhost:8080/"
        },
        "outputId": "4ab4ae6f-b830-417b-da57-6c49ec746447"
      },
      "source": [
        "# From raw data to processed data in 2 steps\n",
        "\n",
        "preprocessed_df = preprocess_origin_cols(data)\n",
        "prepared_data = pipeline_transformer(preprocessed_df)\n",
        "prepared_data"
      ],
      "execution_count": null,
      "outputs": [
        {
          "output_type": "execute_result",
          "data": {
            "text/plain": [
              "array([[-0.85657842, -1.07804475, -1.15192977, ...,  1.        ,\n",
              "         0.        ,  0.        ],\n",
              "       [-0.85657842, -1.1174582 , -0.9900351 , ...,  0.        ,\n",
              "         0.        ,  1.        ],\n",
              "       [-0.85657842, -0.3587492 , -0.31547399, ...,  0.        ,\n",
              "         1.        ,  0.        ],\n",
              "       ...,\n",
              "       [-0.85657842, -0.56566984, -0.53133355, ...,  0.        ,\n",
              "         1.        ,  0.        ],\n",
              "       [-0.85657842, -0.78244384, -0.23452666, ...,  1.        ,\n",
              "         0.        ,  0.        ],\n",
              "       [ 0.32260746, -0.45728283,  0.44003446, ...,  1.        ,\n",
              "         0.        ,  0.        ]])"
            ]
          },
          "metadata": {
            "tags": []
          },
          "execution_count": 9
        }
      ]
    },
    {
      "cell_type": "code",
      "metadata": {
        "id": "V_ykKgwjXbMA",
        "colab": {
          "base_uri": "https://localhost:8080/"
        },
        "outputId": "7040a1b1-d1ee-4d45-c1d6-d99f09465594"
      },
      "source": [
        "prepared_data[0]"
      ],
      "execution_count": null,
      "outputs": [
        {
          "output_type": "execute_result",
          "data": {
            "text/plain": [
              "array([-0.85657842, -1.07804475, -1.15192977, -1.17220298,  1.21586943,\n",
              "       -0.54436373,  1.70952741,  1.29565517,  1.        ,  0.        ,\n",
              "        0.        ])"
            ]
          },
          "metadata": {
            "tags": []
          },
          "execution_count": 10
        }
      ]
    },
    {
      "cell_type": "code",
      "metadata": {
        "id": "mF-uyrBFXsvi",
        "colab": {
          "base_uri": "https://localhost:8080/"
        },
        "outputId": "b39e80c8-01f4-4d9d-96fe-9dda3bcca6e9"
      },
      "source": [
        "# Selecting and Training Models\n",
        "\n",
        "# Linear Regression \n",
        "\n",
        "from sklearn.linear_model import LinearRegression\n",
        "\n",
        "lin_reg = LinearRegression()\n",
        "lin_reg.fit(prepared_data, data_labels)"
      ],
      "execution_count": null,
      "outputs": [
        {
          "output_type": "execute_result",
          "data": {
            "text/plain": [
              "LinearRegression(copy_X=True, fit_intercept=True, n_jobs=None, normalize=False)"
            ]
          },
          "metadata": {
            "tags": []
          },
          "execution_count": 11
        }
      ]
    },
    {
      "cell_type": "code",
      "metadata": {
        "id": "qh5iovJZ1mqn",
        "colab": {
          "base_uri": "https://localhost:8080/"
        },
        "outputId": "88a7c661-9ba8-4aec-cee0-6ed2e5f06df6"
      },
      "source": [
        "# testing the predictions with the \n",
        "\n",
        "sample_data = data.iloc[:5]\n",
        "sample_labels = data_labels.iloc[:5]\n",
        "\n",
        "sample_data_prepared = pipeline_transformer(sample_data)\n",
        "\n",
        "print(\"Prediction of samples: \", lin_reg.predict(sample_data_prepared))"
      ],
      "execution_count": null,
      "outputs": [
        {
          "output_type": "stream",
          "text": [
            "Prediction of samples:  [29.08069379 27.78336755 26.08031176 12.70419279 22.23454159]\n"
          ],
          "name": "stdout"
        }
      ]
    },
    {
      "cell_type": "code",
      "metadata": {
        "id": "ZBSPRIR52U1O",
        "colab": {
          "base_uri": "https://localhost:8080/"
        },
        "outputId": "d8f7d630-8df9-4ca4-b24c-9c8fbdf38d08"
      },
      "source": [
        "print(\"Actual Labels of Samples: \", list(sample_labels))"
      ],
      "execution_count": null,
      "outputs": [
        {
          "output_type": "stream",
          "text": [
            "Actual Labels of Samples:  [32.0, 31.0, 26.0, 18.0, 26.0]\n"
          ],
          "name": "stdout"
        }
      ]
    },
    {
      "cell_type": "code",
      "metadata": {
        "id": "Xf2hbTVm2wrM",
        "colab": {
          "base_uri": "https://localhost:8080/"
        },
        "outputId": "37651fa2-cea6-4816-fdef-2f13ee905583"
      },
      "source": [
        "# Mean Squared Error \n",
        "\n",
        "from sklearn.metrics import mean_squared_error\n",
        "\n",
        "mpg_predictions = lin_reg.predict(prepared_data)\n",
        "lin_mse = mean_squared_error(data_labels, mpg_predictions)\n",
        "lin_rmse = np.sqrt(lin_mse)\n",
        "lin_rmse"
      ],
      "execution_count": null,
      "outputs": [
        {
          "output_type": "execute_result",
          "data": {
            "text/plain": [
              "2.9590402225760872"
            ]
          },
          "metadata": {
            "tags": []
          },
          "execution_count": 14
        }
      ]
    },
    {
      "cell_type": "code",
      "metadata": {
        "id": "MESS_vGK5U0z",
        "colab": {
          "base_uri": "https://localhost:8080/"
        },
        "outputId": "1c4947c5-0c57-4b04-b149-5dc0bedef1d6"
      },
      "source": [
        "# Decision Tree \n",
        "\n",
        "from sklearn.tree import DecisionTreeRegressor\n",
        "\n",
        "tree_reg = DecisionTreeRegressor()\n",
        "tree_reg.fit(prepared_data, data_labels)"
      ],
      "execution_count": null,
      "outputs": [
        {
          "output_type": "execute_result",
          "data": {
            "text/plain": [
              "DecisionTreeRegressor(ccp_alpha=0.0, criterion='mse', max_depth=None,\n",
              "                      max_features=None, max_leaf_nodes=None,\n",
              "                      min_impurity_decrease=0.0, min_impurity_split=None,\n",
              "                      min_samples_leaf=1, min_samples_split=2,\n",
              "                      min_weight_fraction_leaf=0.0, presort='deprecated',\n",
              "                      random_state=None, splitter='best')"
            ]
          },
          "metadata": {
            "tags": []
          },
          "execution_count": 15
        }
      ]
    },
    {
      "cell_type": "code",
      "metadata": {
        "id": "CMRCHh2054sU",
        "colab": {
          "base_uri": "https://localhost:8080/"
        },
        "outputId": "fd922c6c-f2bc-4341-dfe3-c17f303e8c6f"
      },
      "source": [
        "mpg_predictions = tree_reg.predict(prepared_data)\n",
        "tree_mse = mean_squared_error(data_labels, mpg_predictions)\n",
        "tree_rmse = np.sqrt(tree_mse)\n",
        "tree_rmse"
      ],
      "execution_count": null,
      "outputs": [
        {
          "output_type": "execute_result",
          "data": {
            "text/plain": [
              "0.0"
            ]
          },
          "metadata": {
            "tags": []
          },
          "execution_count": 16
        }
      ]
    },
    {
      "cell_type": "code",
      "metadata": {
        "id": "A8bjkESH6Kk-"
      },
      "source": [
        "# Model Evaluation using Cross Validation \n",
        "\n",
        "from sklearn.model_selection import cross_val_score\n",
        "\n",
        "scores = cross_val_score(tree_reg, \n",
        "                         prepared_data, \n",
        "                         data_labels, \n",
        "                         scoring = \"neg_mean_squared_error\", \n",
        "                         cv = 10)\n",
        "tree_reg_rmse_scores = np.sqrt(-scores)"
      ],
      "execution_count": null,
      "outputs": []
    },
    {
      "cell_type": "code",
      "metadata": {
        "id": "JMLqW95P683-",
        "colab": {
          "base_uri": "https://localhost:8080/"
        },
        "outputId": "2087387c-3cb9-45a6-fb2a-2e49298004fc"
      },
      "source": [
        "tree_reg_rmse_scores"
      ],
      "execution_count": null,
      "outputs": [
        {
          "output_type": "execute_result",
          "data": {
            "text/plain": [
              "array([3.79345654, 3.22959943, 2.90037713, 3.60312364, 2.18717855,\n",
              "       3.04912897, 3.44229211, 4.21870833, 4.20767348, 2.76510514])"
            ]
          },
          "metadata": {
            "tags": []
          },
          "execution_count": 18
        }
      ]
    },
    {
      "cell_type": "code",
      "metadata": {
        "id": "6Y75qdl97EnE",
        "colab": {
          "base_uri": "https://localhost:8080/"
        },
        "outputId": "35a2b95c-49b5-412e-b6b8-646ddd3c771a"
      },
      "source": [
        "tree_reg_rmse_scores.mean()"
      ],
      "execution_count": null,
      "outputs": [
        {
          "output_type": "execute_result",
          "data": {
            "text/plain": [
              "3.3396643340013"
            ]
          },
          "metadata": {
            "tags": []
          },
          "execution_count": 19
        }
      ]
    },
    {
      "cell_type": "code",
      "metadata": {
        "id": "HU7M8GAe7Ijm",
        "colab": {
          "base_uri": "https://localhost:8080/"
        },
        "outputId": "acb5f801-80f2-4918-d8d4-e6447a848b79"
      },
      "source": [
        "scores = cross_val_score(lin_reg, prepared_data, data_labels, scoring = \"neg_mean_squared_error\")\n",
        "lin_reg_rmse_scores = np.sqrt(-scores)\n",
        "lin_reg_rmse_scores"
      ],
      "execution_count": null,
      "outputs": [
        {
          "output_type": "execute_result",
          "data": {
            "text/plain": [
              "array([3.47334514, 3.17094688, 2.6556235 , 2.92218787, 3.33366761])"
            ]
          },
          "metadata": {
            "tags": []
          },
          "execution_count": 20
        }
      ]
    },
    {
      "cell_type": "code",
      "metadata": {
        "id": "olOt1imM7leJ",
        "colab": {
          "base_uri": "https://localhost:8080/"
        },
        "outputId": "f19de6d7-3424-474e-c093-53a1865bdfa3"
      },
      "source": [
        "lin_reg_rmse_scores.mean()"
      ],
      "execution_count": null,
      "outputs": [
        {
          "output_type": "execute_result",
          "data": {
            "text/plain": [
              "3.111154198042705"
            ]
          },
          "metadata": {
            "tags": []
          },
          "execution_count": 21
        }
      ]
    },
    {
      "cell_type": "code",
      "metadata": {
        "id": "CAuhQLGV7sf_",
        "colab": {
          "base_uri": "https://localhost:8080/"
        },
        "outputId": "f62798a2-5069-49d1-a8ad-e91bfc2f6fbe"
      },
      "source": [
        "# Random Forest Model \n",
        "\n",
        "from sklearn.ensemble import RandomForestRegressor\n",
        "\n",
        "forest_reg = RandomForestRegressor()\n",
        "forest_reg.fit(prepared_data, data_labels)\n",
        "forest_reg_cv_scores = cross_val_score(forest_reg, \n",
        "                                       prepared_data, \n",
        "                                       data_labels, \n",
        "                                       scoring = \"neg_mean_squared_error\", \n",
        "                                       cv = 10)\n",
        "forest_reg_rmse_scores = np.sqrt(-forest_reg_cv_scores)\n",
        "forest_reg_rmse_scores.mean()"
      ],
      "execution_count": null,
      "outputs": [
        {
          "output_type": "execute_result",
          "data": {
            "text/plain": [
              "2.588366432183667"
            ]
          },
          "metadata": {
            "tags": []
          },
          "execution_count": 22
        }
      ]
    },
    {
      "cell_type": "code",
      "metadata": {
        "id": "pCKdON9Q8sxt",
        "colab": {
          "base_uri": "https://localhost:8080/"
        },
        "outputId": "9ddaa327-d4e7-4f21-8df9-1efd753ad13f"
      },
      "source": [
        "# Support Vector Machine Regressor \n",
        "\n",
        "from sklearn.svm import SVR\n",
        "\n",
        "svm_reg = SVR(kernel = \"linear\")\n",
        "svm_reg.fit(prepared_data, data_labels)\n",
        "svm_cv_scores = cross_val_score(svm_reg, prepared_data, data_labels, scoring = \"neg_mean_squared_error\", cv = 10)\n",
        "svm_rmse_scores = np.sqrt(-svm_cv_scores)\n",
        "svm_rmse_scores.mean()"
      ],
      "execution_count": null,
      "outputs": [
        {
          "output_type": "execute_result",
          "data": {
            "text/plain": [
              "3.08659162080283"
            ]
          },
          "metadata": {
            "tags": []
          },
          "execution_count": 23
        }
      ]
    },
    {
      "cell_type": "code",
      "metadata": {
        "id": "HiTdR4ap-kOx",
        "colab": {
          "base_uri": "https://localhost:8080/"
        },
        "outputId": "f8ac3630-d4bf-4c54-e23b-851727ebd8a5"
      },
      "source": [
        "# Hyperparameter Tu[ning using GridSearchCV\n",
        "\n",
        "from sklearn.model_selection import GridSearchCV\n",
        "\n",
        "param_grid = [\n",
        "              {\"n_estimators\": [3, 10, 30], \"max_features\": [2, 4, 6, 8]}, \n",
        "              {\"bootstrap\": [False], \"n_estimators\": [3, 10], \"max_features\": [2, 3]}\n",
        "]\n",
        "forest_reg = RandomForestRegressor()\n",
        "\n",
        "grid_search = GridSearchCV(forest_reg, param_grid, \n",
        "                           scoring = \"neg_mean_squared_error\", \n",
        "                           return_train_score = True, \n",
        "                           cv = 10,\n",
        "                           )\n",
        "grid_search.fit(prepared_data, data_labels)"
      ],
      "execution_count": null,
      "outputs": [
        {
          "output_type": "execute_result",
          "data": {
            "text/plain": [
              "GridSearchCV(cv=10, error_score=nan,\n",
              "             estimator=RandomForestRegressor(bootstrap=True, ccp_alpha=0.0,\n",
              "                                             criterion='mse', max_depth=None,\n",
              "                                             max_features='auto',\n",
              "                                             max_leaf_nodes=None,\n",
              "                                             max_samples=None,\n",
              "                                             min_impurity_decrease=0.0,\n",
              "                                             min_impurity_split=None,\n",
              "                                             min_samples_leaf=1,\n",
              "                                             min_samples_split=2,\n",
              "                                             min_weight_fraction_leaf=0.0,\n",
              "                                             n_estimators=100, n_jobs=None,\n",
              "                                             oob_score=False, random_state=None,\n",
              "                                             verbose=0, warm_start=False),\n",
              "             iid='deprecated', n_jobs=None,\n",
              "             param_grid=[{'max_features': [2, 4, 6, 8],\n",
              "                          'n_estimators': [3, 10, 30]},\n",
              "                         {'bootstrap': [False], 'max_features': [2, 3],\n",
              "                          'n_estimators': [3, 10]}],\n",
              "             pre_dispatch='2*n_jobs', refit=True, return_train_score=True,\n",
              "             scoring='neg_mean_squared_error', verbose=0)"
            ]
          },
          "metadata": {
            "tags": []
          },
          "execution_count": 24
        }
      ]
    },
    {
      "cell_type": "code",
      "metadata": {
        "id": "ZBib3NQ9_3A9",
        "colab": {
          "base_uri": "https://localhost:8080/"
        },
        "outputId": "381ac279-8b8a-4dbd-e39f-e31b54242c1d"
      },
      "source": [
        "grid_search.best_params_"
      ],
      "execution_count": null,
      "outputs": [
        {
          "output_type": "execute_result",
          "data": {
            "text/plain": [
              "{'max_features': 8, 'n_estimators': 30}"
            ]
          },
          "metadata": {
            "tags": []
          },
          "execution_count": 25
        }
      ]
    },
    {
      "cell_type": "code",
      "metadata": {
        "id": "Eu8ewJ3p_9VZ"
      },
      "source": [
        "cv_scores = grid_search.cv_results_"
      ],
      "execution_count": null,
      "outputs": []
    },
    {
      "cell_type": "code",
      "metadata": {
        "id": "60b-2wmtAB3-",
        "colab": {
          "base_uri": "https://localhost:8080/"
        },
        "outputId": "80d63f83-0295-44cf-ef93-dda828cd3764"
      },
      "source": [
        "cv_scores = grid_search.cv_results_\n",
        "\n",
        "# printing all the parameters along with their scores \n",
        "\n",
        "for mean_score, params in zip(cv_scores[\"mean_test_score\"], cv_scores[\"params\"] ):\n",
        "  print(np.sqrt(-mean_score), params)"
      ],
      "execution_count": null,
      "outputs": [
        {
          "output_type": "stream",
          "text": [
            "3.4361357018936194 {'max_features': 2, 'n_estimators': 3}\n",
            "3.013765610534757 {'max_features': 2, 'n_estimators': 10}\n",
            "2.9363935182111263 {'max_features': 2, 'n_estimators': 30}\n",
            "3.243095540189296 {'max_features': 4, 'n_estimators': 3}\n",
            "2.861352398849751 {'max_features': 4, 'n_estimators': 10}\n",
            "2.7394335767973255 {'max_features': 4, 'n_estimators': 30}\n",
            "3.0689781165898733 {'max_features': 6, 'n_estimators': 3}\n",
            "2.779106845529867 {'max_features': 6, 'n_estimators': 10}\n",
            "2.761132058648354 {'max_features': 6, 'n_estimators': 30}\n",
            "3.0854213360234173 {'max_features': 8, 'n_estimators': 3}\n",
            "2.753533131752965 {'max_features': 8, 'n_estimators': 10}\n",
            "2.641967393884615 {'max_features': 8, 'n_estimators': 30}\n",
            "3.407287809248547 {'bootstrap': False, 'max_features': 2, 'n_estimators': 3}\n",
            "2.901277973764042 {'bootstrap': False, 'max_features': 2, 'n_estimators': 10}\n",
            "3.191530886524769 {'bootstrap': False, 'max_features': 3, 'n_estimators': 3}\n",
            "2.878697916341412 {'bootstrap': False, 'max_features': 3, 'n_estimators': 10}\n"
          ],
          "name": "stdout"
        }
      ]
    },
    {
      "cell_type": "code",
      "metadata": {
        "id": "LmJ-j4dcBB5-",
        "colab": {
          "base_uri": "https://localhost:8080/"
        },
        "outputId": "bb74088d-9772-43b7-b40b-7b08b7dfecd3"
      },
      "source": [
        "# Checking Feature Importance \n",
        "\n",
        "feature_importances = grid_search.best_estimator_.feature_importances_\n",
        "feature_importances"
      ],
      "execution_count": null,
      "outputs": [
        {
          "output_type": "execute_result",
          "data": {
            "text/plain": [
              "array([0.23459717, 0.27366968, 0.12804363, 0.17745672, 0.01846406,\n",
              "       0.11143703, 0.02789091, 0.02329464, 0.00191294, 0.00122205,\n",
              "       0.00201117])"
            ]
          },
          "metadata": {
            "tags": []
          },
          "execution_count": 28
        }
      ]
    },
    {
      "cell_type": "code",
      "metadata": {
        "id": "B9ODmYmmBazp",
        "colab": {
          "base_uri": "https://localhost:8080/"
        },
        "outputId": "c4b4285e-5462-4564-a8ae-a6b25b99805a"
      },
      "source": [
        "extra_attrs = [\"acc_on_power\", \"acc_on_cyl\"]\n",
        "numerics = [\"float64\", \"int64\"]\n",
        "num_attrs = list(data.select_dtypes(include = numerics))\n",
        "\n",
        "attrs = num_attrs + extra_attrs\n",
        "sorted(zip(attrs, feature_importances), reverse = True)"
      ],
      "execution_count": null,
      "outputs": [
        {
          "output_type": "execute_result",
          "data": {
            "text/plain": [
              "[('acc_on_power', 0.027890911437804047),\n",
              " ('acc_on_cyl', 0.023294639327013453),\n",
              " ('Weight', 0.17745672169542728),\n",
              " ('Model Year', 0.11143703021158649),\n",
              " ('Horsepower', 0.12804363270644917),\n",
              " ('Displacement', 0.27366968034259703),\n",
              " ('Cylinders', 0.23459717215414663),\n",
              " ('Acceleration', 0.01846406005161365)]"
            ]
          },
          "metadata": {
            "tags": []
          },
          "execution_count": 29
        }
      ]
    },
    {
      "cell_type": "code",
      "metadata": {
        "id": "SUbB-fJzCB_h",
        "colab": {
          "base_uri": "https://localhost:8080/"
        },
        "outputId": "9553d789-dd25-4287-e4c6-ef97725cc0c1"
      },
      "source": [
        "forest_reg = RandomForestRegressor(bootstrap = False, \n",
        "                                   max_features = 3, \n",
        "                                   n_estimators = 10)\n",
        "\n",
        "forest_reg.fit(prepared_data, data_labels)\n",
        "forest_reg_cv_scores = cross_val_score(forest_reg, prepared_data, \n",
        "                                       scoring = \"neg_mean_squared_error\", \n",
        "                                       cv = 10)\n",
        "forest_reg_rmse_scores = np.sqrt(-forest_reg_cv_scores)\n",
        "forest_reg_rmse_scores.mean()"
      ],
      "execution_count": null,
      "outputs": [
        {
          "output_type": "execute_result",
          "data": {
            "text/plain": [
              "nan"
            ]
          },
          "metadata": {
            "tags": []
          },
          "execution_count": 30
        }
      ]
    },
    {
      "cell_type": "code",
      "metadata": {
        "id": "VFXiD6DeDn3K"
      },
      "source": [
        "# Evaluating the Entire System on Test Data \n",
        "\n",
        "final_model = grid_search.best_estimator_\n",
        "\n",
        "X_test = strat_test_set.drop(\"MPG\", axis = 1)\n",
        "y_test = strat_test_set[\"MPG\"].copy()\n",
        "\n",
        "X_test_preprocessed = preprocess_origin_cols(X_test)\n",
        "X_test_prepared = pipeline_transformer(X_test_preprocessed)\n",
        "\n",
        "final_predictions = final_model.predict(X_test_prepared)\n",
        "final_mse = mean_squared_error(y_test, final_predictions)\n",
        "final_rmse = np.sqrt(final_mse)"
      ],
      "execution_count": null,
      "outputs": []
    },
    {
      "cell_type": "code",
      "metadata": {
        "id": "6iY-K4JbEpvQ",
        "colab": {
          "base_uri": "https://localhost:8080/"
        },
        "outputId": "583414f6-32fb-46cd-cba4-5e80a5a6eb3c"
      },
      "source": [
        "final_rmse"
      ],
      "execution_count": null,
      "outputs": [
        {
          "output_type": "execute_result",
          "data": {
            "text/plain": [
              "3.093732934857537"
            ]
          },
          "metadata": {
            "tags": []
          },
          "execution_count": 32
        }
      ]
    },
    {
      "cell_type": "code",
      "metadata": {
        "id": "eclT-gKsFCLt"
      },
      "source": [
        "# Creating a fucntion to cover the entire workflow\n",
        "\n",
        "def predict_mpg(config, model):\n",
        "  if type(config) == dict:\n",
        "    df = pd.DataFrame(config)\n",
        "  else:\n",
        "    df = config\n",
        "\n",
        "  preproc_df = preprocess_origin_cols(df)\n",
        "  prepared_df = pipeline_transformer(preproc_df)\n",
        "  print(prepared_df)\n",
        "  y_pred = model.predict(prepared_df)\n",
        "  return y_pred"
      ],
      "execution_count": null,
      "outputs": []
    },
    {
      "cell_type": "code",
      "metadata": {
        "id": "VnhpRI5qF5of",
        "colab": {
          "base_uri": "https://localhost:8080/"
        },
        "outputId": "9452a134-89cd-4ee6-a2fa-4ae62b71e8a4"
      },
      "source": [
        "# Checking it on random sample \n",
        "\n",
        "vehicle_config = {\n",
        "    \"Cylinder\": [4, 6, 8], \n",
        "    \"Displacement\": [155.0, 160.0, 165.5], \n",
        "    \"Horsepower\": [93.0, 130.0, 98.0], \n",
        "    \"Weight\": [2500.0, 3150.0, 2600.0], \n",
        "    \"Acceleration\": [15.0, 14.0, 16.0],\n",
        "    \"Model Year\": [81, 80, 78], \n",
        "    \"Origin\": [3, 2, 1]\n",
        "}\n",
        "\n",
        "predict_mpg(vehicle_config, final_model)"
      ],
      "execution_count": null,
      "outputs": [
        {
          "output_type": "stream",
          "text": [
            "[[-1.22474487 -1.20484922 -0.85412443 -0.87481777  0.          1.06904497\n",
            "   0.6684025   1.39127885  1.          0.          0.        ]\n",
            " [ 0.         -0.0388661   1.40320441  1.39970842 -1.22474487  0.26726124\n",
            "  -1.41351982 -0.47596382  0.          0.          1.        ]\n",
            " [ 1.22474487  1.24371532 -0.54907999 -0.52489066  1.22474487 -1.33630621\n",
            "   0.74511732 -0.91531503  0.          1.          0.        ]]\n"
          ],
          "name": "stdout"
        },
        {
          "output_type": "execute_result",
          "data": {
            "text/plain": [
              "array([33.15666667, 18.50333333, 19.22333333])"
            ]
          },
          "metadata": {
            "tags": []
          },
          "execution_count": 34
        }
      ]
    },
    {
      "cell_type": "code",
      "metadata": {
        "id": "spjmrBHZG-te"
      },
      "source": [
        "# Save the Model\n",
        "\n",
        "import pickle"
      ],
      "execution_count": null,
      "outputs": []
    },
    {
      "cell_type": "code",
      "metadata": {
        "id": "lHp4Rb1SHRzW"
      },
      "source": [
        "# saving the model \n",
        "\n",
        "with open(\"model.bin\", \"wb\") as f_out:\n",
        "  pickle.dump(final_model, f_out)\n",
        "  f_out.close()"
      ],
      "execution_count": null,
      "outputs": []
    },
    {
      "cell_type": "code",
      "metadata": {
        "id": "HSqhBUR7Hh8z",
        "colab": {
          "base_uri": "https://localhost:8080/"
        },
        "outputId": "0ed60f3a-d450-486c-bc1c-4dfee1f807d9"
      },
      "source": [
        "# loading the model from the saved files \n",
        "\n",
        "with open (\"model.bin\", \"rb\") as f_in:\n",
        "  model = pickle.load(f_in)\n",
        "\n",
        "predict_mpg(vehicle_config, model)"
      ],
      "execution_count": null,
      "outputs": [
        {
          "output_type": "stream",
          "text": [
            "[[-1.22474487 -1.20484922 -0.85412443 -0.87481777  0.          1.06904497\n",
            "   0.6684025   1.39127885  1.          0.          0.        ]\n",
            " [ 0.         -0.0388661   1.40320441  1.39970842 -1.22474487  0.26726124\n",
            "  -1.41351982 -0.47596382  0.          0.          1.        ]\n",
            " [ 1.22474487  1.24371532 -0.54907999 -0.52489066  1.22474487 -1.33630621\n",
            "   0.74511732 -0.91531503  0.          1.          0.        ]]\n"
          ],
          "name": "stdout"
        },
        {
          "output_type": "execute_result",
          "data": {
            "text/plain": [
              "array([33.15666667, 18.50333333, 19.22333333])"
            ]
          },
          "metadata": {
            "tags": []
          },
          "execution_count": 37
        }
      ]
    },
    {
      "cell_type": "code",
      "metadata": {
        "id": "WjCARFceH7Cq",
        "colab": {
          "base_uri": "https://localhost:8080/",
          "height": 35
        },
        "outputId": "e49462ff-86f1-4b54-e51d-9035ac7b3750"
      },
      "source": [
        "import requests\n",
        "\n",
        "url = \"https://fuel-efficiency.herokuapp.com/\"\n",
        "r = requests.post(url, json = vehicle_config)\n",
        "r.text.strip()"
      ],
      "execution_count": null,
      "outputs": [
        {
          "output_type": "execute_result",
          "data": {
            "application/vnd.google.colaboratory.intrinsic+json": {
              "type": "string"
            },
            "text/plain": [
              "'{\"mpg_predictions\":[26.270000000000003,23.78,19.240000000000002]}'"
            ]
          },
          "metadata": {
            "tags": []
          },
          "execution_count": 38
        }
      ]
    },
    {
      "cell_type": "code",
      "metadata": {
        "id": "dkxwr1XYj71E"
      },
      "source": [
        ""
      ],
      "execution_count": null,
      "outputs": []
    }
  ]
}